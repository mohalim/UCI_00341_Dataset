{
 "cells": [
  {
   "cell_type": "code",
   "execution_count": 1,
   "id": "b4629615",
   "metadata": {},
   "outputs": [],
   "source": [
    "import pandas as pd\n",
    "import os\n",
    "import re"
   ]
  },
  {
   "cell_type": "code",
   "execution_count": 2,
   "id": "6f42834e",
   "metadata": {},
   "outputs": [],
   "source": [
    "raw_data_path = 'UCI_00341/RawData'\n",
    "annotated_data_path = 'Annotated_Data/'\n",
    "fname_label = 'labels.txt'"
   ]
  },
  {
   "cell_type": "markdown",
   "id": "2a90bcc6",
   "metadata": {},
   "source": [
    "Get all the data files in the folder."
   ]
  },
  {
   "cell_type": "code",
   "execution_count": 3,
   "id": "e8c2f475",
   "metadata": {},
   "outputs": [],
   "source": [
    "list_files = os.listdir(raw_data_path)"
   ]
  },
  {
   "cell_type": "markdown",
   "id": "41b6266c",
   "metadata": {},
   "source": [
    "Put the filenames in a list based on the type of data."
   ]
  },
  {
   "cell_type": "code",
   "execution_count": 4,
   "id": "34c0395a",
   "metadata": {},
   "outputs": [],
   "source": [
    "acc_files = []\n",
    "gyr_files = []\n",
    "for l in list_files:\n",
    "    x = re.search('acc', l)\n",
    "    if x:\n",
    "        acc_files.append(l)\n",
    "    x = re.search('gyro', l)\n",
    "    if x:\n",
    "        gyr_files.append(l)"
   ]
  },
  {
   "cell_type": "markdown",
   "id": "7196d3c9",
   "metadata": {},
   "source": [
    "Read the label files."
   ]
  },
  {
   "cell_type": "code",
   "execution_count": 5,
   "id": "e54cd73f",
   "metadata": {},
   "outputs": [],
   "source": [
    "labels = pd.read_csv(raw_data_path+'/'+fname_label, header=None, sep=' ')"
   ]
  },
  {
   "cell_type": "markdown",
   "id": "278ec184",
   "metadata": {},
   "source": [
    "Each experiment has two data files: accelerometer and gyroscope files. For each experiment, read the data files into DataFrame, combine them and annotate each row based on 'labels.txt' file."
   ]
  },
  {
   "cell_type": "code",
   "execution_count": 6,
   "id": "b480bd39",
   "metadata": {
    "scrolled": true
   },
   "outputs": [],
   "source": [
    "s = 1\n",
    "for acc_file, gyr_file in zip(acc_files, gyr_files):\n",
    "    acc_data = pd.read_csv(raw_data_path+'/'+acc_file, header=None, sep=' ')\n",
    "    acc_data.columns = ['Ax', 'Ay', 'Az']\n",
    "    gyr_data = pd.read_csv(raw_data_path+'/'+gyr_file, header=None, sep=' ')\n",
    "    gyr_data.columns = ['Gx', 'Gy', 'Gz']\n",
    "    df = pd.concat((acc_data, gyr_data), axis=1)\n",
    "    df['Activity'] = -1 # initialize the value of 'Activity' column\n",
    "    \n",
    "    label = labels.loc[labels[0] == s] # get label for the data file\n",
    "    \n",
    "    num_rows_label = len(label)\n",
    "    for r in range(num_rows_label):\n",
    "        st = label.iloc[r][3]-1\n",
    "        ed = label.iloc[r][4]-1\n",
    "        act_class = label.iloc[r][2]\n",
    "        df.loc[st:ed,'Activity'] = act_class\n",
    "    \n",
    "    df.to_csv(annotated_data_path + 'exp' + str(s) + '.csv', index=False) # write \n",
    "    s = s + 1"
   ]
  }
 ],
 "metadata": {
  "kernelspec": {
   "display_name": "Python 3 (ipykernel)",
   "language": "python",
   "name": "python3"
  },
  "language_info": {
   "codemirror_mode": {
    "name": "ipython",
    "version": 3
   },
   "file_extension": ".py",
   "mimetype": "text/x-python",
   "name": "python",
   "nbconvert_exporter": "python",
   "pygments_lexer": "ipython3",
   "version": "3.9.16"
  },
  "varInspector": {
   "cols": {
    "lenName": 16,
    "lenType": 16,
    "lenVar": 40
   },
   "kernels_config": {
    "python": {
     "delete_cmd_postfix": "",
     "delete_cmd_prefix": "del ",
     "library": "var_list.py",
     "varRefreshCmd": "print(var_dic_list())"
    },
    "r": {
     "delete_cmd_postfix": ") ",
     "delete_cmd_prefix": "rm(",
     "library": "var_list.r",
     "varRefreshCmd": "cat(var_dic_list()) "
    }
   },
   "position": {
    "height": "428.85px",
    "left": "1546px",
    "right": "20px",
    "top": "120px",
    "width": "354px"
   },
   "types_to_exclude": [
    "module",
    "function",
    "builtin_function_or_method",
    "instance",
    "_Feature"
   ],
   "window_display": false
  }
 },
 "nbformat": 4,
 "nbformat_minor": 5
}
